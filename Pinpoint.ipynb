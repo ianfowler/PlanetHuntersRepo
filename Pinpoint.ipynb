{
 "cells": [
  {
   "cell_type": "code",
   "execution_count": 1,
   "metadata": {},
   "outputs": [],
   "source": [
    "EXOHOME = \"/Users/Ian/SIR/PlanetHuntersRepo\"\n",
    "KEPLER_DATA_DIR = \"/Users/Ian/SIR/kepler/\""
   ]
  },
  {
   "cell_type": "code",
   "execution_count": 2,
   "metadata": {
    "scrolled": false
   },
   "outputs": [],
   "source": [
    "# from shallue_vanderburg_util.astronet.train import train\n",
    "# train(EXOHOME, 625) # train_steps=625"
   ]
  },
  {
   "cell_type": "code",
   "execution_count": 3,
   "metadata": {
    "scrolled": false
   },
   "outputs": [],
   "source": [
    "# from shallue_vanderburg_util.astronet.data.generate_input_records import gen_train_files\n",
    "# gen_train_files(EXOHOME, KEPLER_DATA_DIR)"
   ]
  },
  {
   "cell_type": "code",
   "execution_count": 4,
   "metadata": {
    "scrolled": false
   },
   "outputs": [
    {
     "name": "stdout",
     "output_type": "stream",
     "text": [
      "[7117003]\n",
      "         kepid  tce_plnt_num  tce_rogue_flag    tce_delivname   rowupdate  \\\n",
      "rowid                                                                       \n",
      "8186   7117003             2             NaN  q1_q17_dr24_tce  2015-01-15   \n",
      "8243   7117003             3             NaN  q1_q17_dr24_tce  2015-01-15   \n",
      "8185   7117003             1             NaN  q1_q17_dr24_tce  2015-01-15   \n",
      "\n",
      "                                        tce_datalink_dvs  \\\n",
      "rowid                                                      \n",
      "8186   007/007117/007117003/dv/kplr007117003-002-2014...   \n",
      "8243   007/007117/007117003/dv/kplr007117003-003-2014...   \n",
      "8185   007/007117/007117003/dv/kplr007117003-001-2014...   \n",
      "\n",
      "                                        tce_datalink_dvr  tce_period  \\\n",
      "rowid                                                                  \n",
      "8186   007/007117/007117003/dv/kplr007117003-20141002...  428.322000   \n",
      "8243   007/007117/007117003/dv/kplr007117003-20141002...    0.566792   \n",
      "8185   007/007117/007117003/dv/kplr007117003-20141002...  428.321000   \n",
      "\n",
      "       tce_period_err  tce_time0bk  ...  tce_dicco_mdec  tce_dicco_mdec_err  \\\n",
      "rowid                               ...                                       \n",
      "8186         0.000067      235.576  ...        0.010798              0.0841   \n",
      "8243         0.000011      131.814  ...       -0.245560              0.7080   \n",
      "8185         0.000000      276.528  ...        0.000000             -1.0000   \n",
      "\n",
      "       tce_dicco_msky  tce_dicco_msky_err  tce_dikco_mra  tce_dikco_mra_err  \\\n",
      "rowid                                                                         \n",
      "8186          0.08763              0.0834       0.021839              0.076   \n",
      "8243          0.90254              0.9030      -0.761830              0.666   \n",
      "8185          0.00000             -1.0000       0.000000             -1.000   \n",
      "\n",
      "       tce_dikco_mdec  tce_dikco_mdec_err  tce_dikco_msky  tce_dikco_msky_err  \n",
      "rowid                                                                          \n",
      "8186        -0.056288              0.0953        0.060376               0.093  \n",
      "8243        -0.324970              0.6350        0.828250               0.856  \n",
      "8185         0.000000             -1.0000        0.000000              -1.000  \n",
      "\n",
      "[3 rows x 155 columns]\n",
      "7117003\n",
      "7117003\n",
      "7117003\n"
     ]
    },
    {
     "ename": "ValueError",
     "evalue": "could not broadcast input array from shape (4,43) into shape (4,39)",
     "output_type": "error",
     "traceback": [
      "\u001b[0;31m---------------------------------------------------------------------------\u001b[0m",
      "\u001b[0;31mRemoteTraceback\u001b[0m                           Traceback (most recent call last)",
      "\u001b[0;31mRemoteTraceback\u001b[0m: \n\"\"\"\nTraceback (most recent call last):\n  File \"/usr/local/Cellar/python/3.7.6_1/Frameworks/Python.framework/Versions/3.7/lib/python3.7/multiprocessing/pool.py\", line 121, in worker\n    result = (True, func(*args, **kwds))\n  File \"/Users/Ian/SIR/PlanetHuntersRepo/shallue_vanderburg_util/astronet/data/generate_input_records.py\", line 163, in _process_file_shard\n    example = _process_tce(tce, kdd)\n  File \"/Users/Ian/SIR/PlanetHuntersRepo/shallue_vanderburg_util/astronet/data/generate_input_records.py\", line 143, in _process_tce\n    time, flux = preprocess.process_light_curve(all_time, all_flux)\n  File \"/Users/Ian/SIR/PlanetHuntersRepo/shallue_vanderburg_util/astronet/data/preprocess/preprocess.py\", line 74, in process_light_curve\n    spline = kepler_spline.fit_kepler_spline(all_time, all_flux, verbose=False)[0]\n  File \"/Users/Ian/SIR/PlanetHuntersRepo/shallue_vanderburg_util/astronet/data/preprocess/kepler_spline.py\", line 323, in fit_kepler_spline\n    verbose=verbose)\n  File \"/Users/Ian/SIR/PlanetHuntersRepo/shallue_vanderburg_util/astronet/data/preprocess/kepler_spline.py\", line 218, in choose_kepler_spline\n    time, flux, bkspace=bkspace, maxiter=maxiter)\n  File \"/Users/Ian/SIR/PlanetHuntersRepo/shallue_vanderburg_util/astronet/data/preprocess/kepler_spline.py\", line 106, in kepler_spline\n    curve = bspline.iterfit(time[mask], flux[mask], bkspace=bkspace)[0]\n  File \"/usr/local/lib/python3.7/site-packages/pydl/pydlutils/bspline.py\", line 639, in iterfit\n    x2=x2work)\n  File \"/usr/local/lib/python3.7/site-packages/pydl/pydlutils/bspline.py\", line 189, in fit\n    errb = cholesky_band(alpha, mininf=min_influence)\n  File \"/usr/local/lib/python3.7/site-packages/pydl/pydlutils/bspline.py\", line 491, in cholesky_band\n    L[:, 0:n] = lower\nValueError: could not broadcast input array from shape (4,43) into shape (4,39)\n\"\"\"",
      "\nThe above exception was the direct cause of the following exception:\n",
      "\u001b[0;31mValueError\u001b[0m                                Traceback (most recent call last)",
      "\u001b[0;32m<ipython-input-4-99e2df797bf0>\u001b[0m in \u001b[0;36m<module>\u001b[0;34m\u001b[0m\n\u001b[1;32m     12\u001b[0m \u001b[0;32mfor\u001b[0m \u001b[0mprblms\u001b[0m \u001b[0;32min\u001b[0m \u001b[0mchunks\u001b[0m\u001b[0;34m:\u001b[0m\u001b[0;34m\u001b[0m\u001b[0;34m\u001b[0m\u001b[0m\n\u001b[1;32m     13\u001b[0m     \u001b[0mprint\u001b[0m\u001b[0;34m(\u001b[0m\u001b[0mprblms\u001b[0m\u001b[0;34m)\u001b[0m\u001b[0;34m\u001b[0m\u001b[0;34m\u001b[0m\u001b[0m\n\u001b[0;32m---> 14\u001b[0;31m     \u001b[0mtest_the_crap_one\u001b[0m\u001b[0;34m(\u001b[0m\u001b[0mEXOHOME\u001b[0m\u001b[0;34m,\u001b[0m \u001b[0mKEPLER_DATA_DIR\u001b[0m\u001b[0;34m,\u001b[0m \u001b[0mprblms\u001b[0m\u001b[0;34m)\u001b[0m\u001b[0;34m\u001b[0m\u001b[0;34m\u001b[0m\u001b[0m\n\u001b[0m\u001b[1;32m     15\u001b[0m \u001b[0;34m\u001b[0m\u001b[0m\n\u001b[1;32m     16\u001b[0m \u001b[0;34m\u001b[0m\u001b[0m\n",
      "\u001b[0;32m~/SIR/PlanetHuntersRepo/shallue_vanderburg_util/astronet/data/generate_input_records.py\u001b[0m in \u001b[0;36mtest_the_crap_one\u001b[0;34m(exohome, kepler_data_dir, problems, type, shards, worker_processes)\u001b[0m\n\u001b[1;32m    417\u001b[0m     \u001b[0;31m# raised by the worker processes are also raised here.\u001b[0m\u001b[0;34m\u001b[0m\u001b[0;34m\u001b[0m\u001b[0;34m\u001b[0m\u001b[0m\n\u001b[1;32m    418\u001b[0m     \u001b[0;32mfor\u001b[0m \u001b[0masync_result\u001b[0m \u001b[0;32min\u001b[0m \u001b[0masync_results\u001b[0m\u001b[0;34m:\u001b[0m\u001b[0;34m\u001b[0m\u001b[0;34m\u001b[0m\u001b[0m\n\u001b[0;32m--> 419\u001b[0;31m       \u001b[0masync_result\u001b[0m\u001b[0;34m.\u001b[0m\u001b[0mget\u001b[0m\u001b[0;34m(\u001b[0m\u001b[0;34m)\u001b[0m\u001b[0;34m\u001b[0m\u001b[0;34m\u001b[0m\u001b[0m\n\u001b[0m\u001b[1;32m    420\u001b[0m \u001b[0;34m\u001b[0m\u001b[0m\n\u001b[1;32m    421\u001b[0m     \u001b[0mlogger\u001b[0m \u001b[0;34m=\u001b[0m \u001b[0mtf\u001b[0m\u001b[0;34m.\u001b[0m\u001b[0mget_logger\u001b[0m\u001b[0;34m(\u001b[0m\u001b[0;34m)\u001b[0m\u001b[0;34m\u001b[0m\u001b[0;34m\u001b[0m\u001b[0m\n",
      "\u001b[0;32m/usr/local/Cellar/python/3.7.6_1/Frameworks/Python.framework/Versions/3.7/lib/python3.7/multiprocessing/pool.py\u001b[0m in \u001b[0;36mget\u001b[0;34m(self, timeout)\u001b[0m\n\u001b[1;32m    655\u001b[0m             \u001b[0;32mreturn\u001b[0m \u001b[0mself\u001b[0m\u001b[0;34m.\u001b[0m\u001b[0m_value\u001b[0m\u001b[0;34m\u001b[0m\u001b[0;34m\u001b[0m\u001b[0m\n\u001b[1;32m    656\u001b[0m         \u001b[0;32melse\u001b[0m\u001b[0;34m:\u001b[0m\u001b[0;34m\u001b[0m\u001b[0;34m\u001b[0m\u001b[0m\n\u001b[0;32m--> 657\u001b[0;31m             \u001b[0;32mraise\u001b[0m \u001b[0mself\u001b[0m\u001b[0;34m.\u001b[0m\u001b[0m_value\u001b[0m\u001b[0;34m\u001b[0m\u001b[0;34m\u001b[0m\u001b[0m\n\u001b[0m\u001b[1;32m    658\u001b[0m \u001b[0;34m\u001b[0m\u001b[0m\n\u001b[1;32m    659\u001b[0m     \u001b[0;32mdef\u001b[0m \u001b[0m_set\u001b[0m\u001b[0;34m(\u001b[0m\u001b[0mself\u001b[0m\u001b[0;34m,\u001b[0m \u001b[0mi\u001b[0m\u001b[0;34m,\u001b[0m \u001b[0mobj\u001b[0m\u001b[0;34m)\u001b[0m\u001b[0;34m:\u001b[0m\u001b[0;34m\u001b[0m\u001b[0;34m\u001b[0m\u001b[0m\n",
      "\u001b[0;31mValueError\u001b[0m: could not broadcast input array from shape (4,43) into shape (4,39)"
     ]
    }
   ],
   "source": [
    "from shallue_vanderburg_util.astronet.data.generate_input_records import test_the_crap_one\n",
    "\n",
    "def divide_chunks(l, n): \n",
    "    # looping till length l \n",
    "    for i in range(0, len(l), n):  \n",
    "        yield l[i:i + n] \n",
    "    \n",
    "entire_set = [9825174,10019950,1865567,7007099,11853255,4937435,2719928,7116842,8963002,11518201,9714633,8263545,7117003,6426592,9347095,3437776,5450428,5876187,6542001,3962357,9239124,10812657,7362579,7024928,9300946,5284779,4157325,8314525,4574310]\n",
    "entire_set = [7117003, 6426592, 9347095]\n",
    "chunks = divide_chunks(entire_set, 1)\n",
    "\n",
    "for prblms in chunks:\n",
    "    print(prblms)\n",
    "    test_the_crap_one(EXOHOME, KEPLER_DATA_DIR, prblms)\n",
    "\n",
    "\n",
    "\n"
   ]
  },
  {
   "cell_type": "code",
   "execution_count": null,
   "metadata": {},
   "outputs": [],
   "source": []
  }
 ],
 "metadata": {
  "kernelspec": {
   "display_name": "Python 3",
   "language": "python",
   "name": "python3"
  },
  "language_info": {
   "codemirror_mode": {
    "name": "ipython",
    "version": 3
   },
   "file_extension": ".py",
   "mimetype": "text/x-python",
   "name": "python",
   "nbconvert_exporter": "python",
   "pygments_lexer": "ipython3",
   "version": "3.7.6"
  }
 },
 "nbformat": 4,
 "nbformat_minor": 4
}
